{
  "nbformat": 4,
  "nbformat_minor": 0,
  "metadata": {
    "colab": {
      "name": "main.ipynb",
      "provenance": [],
      "authorship_tag": "ABX9TyPWXbBgErxUwJsDyZ7/QhrL",
      "include_colab_link": true
    },
    "kernelspec": {
      "name": "python3",
      "display_name": "Python 3"
    }
  },
  "cells": [
    {
      "cell_type": "markdown",
      "metadata": {
        "id": "view-in-github",
        "colab_type": "text"
      },
      "source": [
        "<a href=\"https://colab.research.google.com/github/nerudxlf/agregated_if/blob/main/main.ipynb\" target=\"_parent\"><img src=\"https://colab.research.google.com/assets/colab-badge.svg\" alt=\"Open In Colab\"/></a>"
      ]
    },
    {
      "cell_type": "code",
      "metadata": {
        "id": "Urh3KYBUxWe-"
      },
      "source": [
        "import re\r\n",
        "\r\n",
        "import pandas as pd\r\n",
        "from google.colab import files\r\n",
        "\r\n",
        "files.upload()"
      ],
      "execution_count": null,
      "outputs": []
    },
    {
      "cell_type": "code",
      "metadata": {
        "id": "k9cmVqfCxfSd"
      },
      "source": [
        "def filter_scopus(data: object) -> object:\r\n",
        "  data = data.filter([\"Authors\", \"Title\", \"Source Title\"])\r\n",
        "  source_title_list = data[\"Source Title\"].to_list()\r\n",
        "  title_list = data[\"Title\"].to_list()\r\n",
        "  key_j_list = []\r\n",
        "  key_title_list = []\r\n",
        "  for i in source_title_list:\r\n",
        "    i = i.split(\" (\")[0]\r\n",
        "    key_j_list.append((re.sub(\"[^A-Za-z0-9]\", \"\", i)).upper())\r\n",
        "  for i in title_list:\r\n",
        "    key_title_list.append((re.sub(\"[^A-Za-z0-9]\", \"\", i)).upper())\r\n",
        "  data[\"KEY_J\"] = key_j_list\r\n",
        "  data[\"KEY_T\"] = key_title_list\r\n",
        "  return data\r\n",
        "\r\n",
        "\r\n",
        "def filter_wos(data: object) -> object:\r\n",
        "  data = data.filter([\"Authors\", \"Article Title\", \"Source Title\"])\r\n",
        "  data.rename(columns={\"Article Title\": \"Title\"}, inplace=True)\r\n",
        "  source_title_list = data[\"Source Title\"].to_list()\r\n",
        "  title_list = data[\"Title\"].to_list()\r\n",
        "  key_j_list = []\r\n",
        "  key_title_list = []\r\n",
        "  for i in source_title_list:\r\n",
        "    i = i.split(\" (\")[0]\r\n",
        "    key_j_list.append((re.sub(\"[^A-Za-z0-9]\", \"\", i)).upper())\r\n",
        "  for i in title_list:\r\n",
        "     key_title_list.append((re.sub(\"[^A-Za-z0-9]\", \"\", i)).upper())\r\n",
        "  data[\"KEY_J\"] = key_j_list\r\n",
        "  data[\"KEY_T\"] = key_title_list\r\n",
        "  return data\r\n",
        "\r\n",
        "\r\n",
        "def scimago_filter(data: object) -> object:\r\n",
        "  data = data.filter([\"Title\", \"SJR\"])\r\n",
        "  data.rename(columns={\"Title\": \"Source Title\"}, inplace=True)\r\n",
        "  source_title_list = data[\"Source Title\"].to_list()\r\n",
        "  key_list = []\r\n",
        "  for i in source_title_list:\r\n",
        "    i = i.split(\" (\")[0]\r\n",
        "    key_list.append((re.sub(\"[^A-Za-z0-9]\", \"\", i)).upper())\r\n",
        "  data[\"KEY_J\"] = key_list\r\n",
        "  return data\r\n",
        "\r\n",
        "\r\n",
        "def journal_list_filter(data: object) -> object:\r\n",
        "  data = data.filter([\"Full Journal Title\", \"Journal Impact Factor\"])\r\n",
        "  data.rename(columns={\"Full Journal Title\": \"Source Title\"}, inplace=True)\r\n",
        "  source_title_list = data[\"Source Title\"].to_list()\r\n",
        "  key_list = []\r\n",
        "  for i in source_title_list:\r\n",
        "    i = i.split(\" (\")[0]\r\n",
        "    key_list.append((re.sub(\"[^A-Za-z0-9]\", \"\", i)).upper())\r\n",
        "  data[\"KEY_J\"] = key_list\r\n",
        "  return data"
      ],
      "execution_count": null,
      "outputs": []
    },
    {
      "cell_type": "code",
      "metadata": {
        "id": "KJfbixgRx_yi"
      },
      "source": [
        "wos_data_df = filter_wos(pd.read_excel(\"wos2020.xls\"))\r\n",
        "scopus_data_df = filter_scopus(pd.read_excel(\"scopus2020.xlsx\"))\r\n",
        "scimago_data_df = scimago_filter(pd.read_csv(\"scimagojr_2019.csv\", sep=';', ))\r\n",
        "impact_factor_df = journal_list_filter(pd.read_excel(\"journal_list_jcr_2019.xlsx\"))\r\n",
        "\r\n",
        "con_data = pd.concat([scopus_data_df, wos_data_df])\r\n",
        "con_data.drop_duplicates(subset=[\"KEY_T\"], inplace=True)\r\n",
        "\r\n",
        "result_data = pd.merge(left=con_data, right=impact_factor_df, left_on=\"KEY_J\", right_on=\"KEY_J\", how=\"left\")\r\n",
        "result_data = pd.merge(left=result_data, right=scimago_data_df, left_on=\"KEY_J\", right_on=\"KEY_J\", how=\"left\")\r\n",
        "result_data = result_data.filter(\r\n",
        "    [\"Authors\", \"Title\", \"Source Title_x\", \"Source Title_y\", \"SJR\", \"Journal Impact Factor\"])\r\n",
        "result_data.to_excel(\"result_new.xlsx\", index=False)"
      ],
      "execution_count": null,
      "outputs": []
    }
  ]
}