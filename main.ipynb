{
  "nbformat": 4,
  "nbformat_minor": 0,
  "metadata": {
    "colab": {
      "name": "main.ipynb",
      "provenance": [],
      "authorship_tag": "ABX9TyPanVwc+lhYx1zkQr/9bNrm",
      "include_colab_link": true
    },
    "kernelspec": {
      "name": "python3",
      "display_name": "Python 3"
    }
  },
  "cells": [
    {
      "cell_type": "markdown",
      "metadata": {
        "id": "view-in-github",
        "colab_type": "text"
      },
      "source": [
        "<a href=\"https://colab.research.google.com/github/nerudxlf/agregated_if/blob/main/main.ipynb\" target=\"_parent\"><img src=\"https://colab.research.google.com/assets/colab-badge.svg\" alt=\"Open In Colab\"/></a>"
      ]
    },
    {
      "cell_type": "code",
      "metadata": {
        "id": "Urh3KYBUxWe-"
      },
      "source": [
        "import re\n",
        "\n",
        "import pandas as pd\n",
        "from google.colab import files\n",
        "\n",
        "files.upload()"
      ],
      "execution_count": null,
      "outputs": []
    },
    {
      "cell_type": "code",
      "metadata": {
        "id": "k9cmVqfCxfSd"
      },
      "source": [
        "def filter_scopus(data: object) -> object:\n",
        "  \"\"\"\n",
        "  Функция добавляет 2 столбца к выгрузке из Scopus и приводит все столбцы к \n",
        "  общему названию\n",
        "  1 столбец KEY_J это столбец Source Title, состоящий только из букв верхнего\n",
        "  регистра и цифр\n",
        "  2 столбец KEY_T это столбец Title, состоящий только из букв верхнего регистра\n",
        "  и цифр\n",
        "  param: data(DataFrame): выгрузка из Scopus\n",
        "  return: data(DataFrame): выгрузка из Scopus + 2 столбца\n",
        "  \"\"\"\n",
        "  data = data.filter([\"Authors\", \"Title\", \"Source Title\"])\n",
        "  source_title_list = data[\"Source Title\"].to_list()\n",
        "  title_list = data[\"Title\"].to_list()\n",
        "  key_j_list = []\n",
        "  key_title_list = []\n",
        "  for i in source_title_list:\n",
        "    i = i.split(\" (\")[0]\n",
        "    key_j_list.append((re.sub(\"[^A-Za-z0-9]\", \"\", i)).upper())\n",
        "  for i in title_list:\n",
        "    key_title_list.append((re.sub(\"[^A-Za-z0-9]\", \"\", i)).upper())\n",
        "  data[\"KEY_J\"] = key_j_list\n",
        "  data[\"KEY_T\"] = key_title_list\n",
        "  return data\n",
        "\n",
        "\n",
        "def filter_wos(data: object) -> object:\n",
        "  \"\"\"\n",
        "  Функция добавляет 2 столбца к выгрузке из WoS и приводит все столбцы к \n",
        "  общему названию\n",
        "  1 столбец KEY_J это столбец Source Title, состоящий только из букв верхнего\n",
        "  регистра и цифр\n",
        "  2 столбец KEY_T это столбец Title, состоящий только из букв верхнего регистра\n",
        "  и цифр\n",
        "  param: data(DataFrame): выгрузка из WoS\n",
        "  return: data(DataFrame): выгрузка из WoS + 2 столбца\n",
        "  \"\"\"\n",
        "  data = data.filter([\"Authors\", \"Article Title\", \"Source Title\"])\n",
        "  data.rename(columns={\"Article Title\": \"Title\"}, inplace=True)\n",
        "  source_title_list = data[\"Source Title\"].to_list()\n",
        "  title_list = data[\"Title\"].to_list()\n",
        "  key_j_list = []\n",
        "  key_title_list = []\n",
        "  for i in source_title_list:\n",
        "    i = i.split(\" (\")[0]\n",
        "    key_j_list.append((re.sub(\"[^A-Za-z0-9]\", \"\", i)).upper())\n",
        "  for i in title_list:\n",
        "     key_title_list.append((re.sub(\"[^A-Za-z0-9]\", \"\", i)).upper())\n",
        "  data[\"KEY_J\"] = key_j_list\n",
        "  data[\"KEY_T\"] = key_title_list\n",
        "  return data\n",
        "\n",
        "\n",
        "def scimago_filter(data: object) -> object:\n",
        "  \"\"\"\n",
        "  Функция приводит столбец Title  к название Source Title\n",
        "  Затем на основе Source Title формируется KEY_J\n",
        "  param: data(DataFrame):\n",
        "  return: data(DataFrame):\n",
        "  \"\"\"\n",
        "  data = data.filter([\"Title\", \"SJR\"])\n",
        "  data.rename(columns={\"Title\": \"Source Title\"}, inplace=True)\n",
        "  source_title_list = data[\"Source Title\"].to_list()\n",
        "  key_list = []\n",
        "  for i in source_title_list:\n",
        "    i = i.split(\" (\")[0]\n",
        "    key_list.append((re.sub(\"[^A-Za-z0-9]\", \"\", i)).upper())\n",
        "  data[\"KEY_J\"] = key_list\n",
        "  return data\n",
        "\n",
        "\n",
        "def journal_list_filter(data: object) -> object:\n",
        "  \"\"\"\n",
        "  Функция приводит столбец Full Journal Title к название Source Title\n",
        "  Затем на основе Source Title формируется KEY_J\n",
        "  param: data(DataFrame):\n",
        "  return: data(DataFrame):\n",
        "  \"\"\"\n",
        "  data = data.filter([\"Full Journal Title\", \"Journal Impact Factor\"])\n",
        "  data.rename(columns={\"Full Journal Title\": \"Source Title\"}, inplace=True)\n",
        "  source_title_list = data[\"Source Title\"].to_list()\n",
        "  key_list = []\n",
        "  for i in source_title_list:\n",
        "    i = i.split(\" (\")[0]\n",
        "    key_list.append((re.sub(\"[^A-Za-z0-9]\", \"\", i)).upper())\n",
        "  data[\"KEY_J\"] = key_list\n",
        "  return data"
      ],
      "execution_count": null,
      "outputs": []
    },
    {
      "cell_type": "code",
      "metadata": {
        "id": "KJfbixgRx_yi"
      },
      "source": [
        "wos_data_df = filter_wos(pd.read_excel(\"wos2020.xls\"))\n",
        "scopus_data_df = filter_scopus(pd.read_excel(\"scopus2020.xlsx\"))\n",
        "scimago_data_df = scimago_filter(pd.read_csv(\"scimagojr_2019.csv\", sep=';', ))\n",
        "impact_factor_df = journal_list_filter(pd.read_excel(\"journal_list_jcr_2019.xlsx\"))\n",
        "\n",
        "con_data = pd.concat([scopus_data_df, wos_data_df])\n",
        "con_data.drop_duplicates(subset=[\"KEY_T\"], inplace=True)\n",
        "\n",
        "result_data = pd.merge(left=con_data, right=impact_factor_df, left_on=\"KEY_J\", right_on=\"KEY_J\", how=\"left\")\n",
        "result_data = pd.merge(left=result_data, right=scimago_data_df, left_on=\"KEY_J\", right_on=\"KEY_J\", how=\"left\")\n",
        "result_data = result_data.filter(\n",
        "    [\"Authors\", \"Title\", \"Source Title_x\", \"Source Title_y\", \"SJR\", \"Journal Impact Factor\"])\n",
        "result_data.to_excel(\"result_new.xlsx\", index=False)"
      ],
      "execution_count": null,
      "outputs": []
    }
  ]
}